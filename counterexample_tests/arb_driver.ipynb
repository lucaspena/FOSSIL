{
 "cells": [
  {
   "cell_type": "code",
   "execution_count": 1,
   "metadata": {},
   "outputs": [],
   "source": [
    "from z3 import *\n",
    "from arb_signature import counterexemplify"
   ]
  },
  {
   "cell_type": "markdown",
   "metadata": {},
   "source": [
    "## Lists and list segments"
   ]
  },
  {
   "cell_type": "code",
   "execution_count": 2,
   "metadata": {},
   "outputs": [],
   "source": [
    "# Initialize signature\n",
    "ls = Function('ls', IntSort(), IntSort(), BoolSort())\n",
    "nil = Int('nil')\n",
    "nxt = Function('nxt', IntSort(), IntSort())\n",
    "rank = Function('rank', IntSort(), IntSort(), IntSort())\n",
    "def lst(x):\n",
    "    return ls(x, nil)\n",
    "\n",
    "# Establish recursive-rank definition\n",
    "ls_def = lambda x,y: ls(x,y) == Or(x == y, ls(nxt(x),y))\n",
    "rank_def = lambda x,y: Or(x == y, ls(nxt(x),y) == (rank(nxt(x),y) < rank(x,y)))\n",
    "# Establish zero-rank condition\n",
    "rank_zero = lambda x,y: (x == nil or x == y)"
   ]
  },
  {
   "cell_type": "code",
   "execution_count": 3,
   "metadata": {},
   "outputs": [
    {
     "name": "stdout",
     "output_type": "stream",
     "text": [
      "Implies(ls(x, y), ls(x, nil))\n"
     ]
    }
   ],
   "source": [
    "x,y = Ints('x y')\n",
    "lemma = Implies(ls(x,y), lst(x))\n",
    "lemma_vars = [x, y]\n",
    "print(lemma)"
   ]
  },
  {
   "cell_type": "code",
   "execution_count": 4,
   "metadata": {},
   "outputs": [
    {
     "name": "stdout",
     "output_type": "stream",
     "text": [
      "[x3 = 2,\n",
      " nil = 0,\n",
      " x2 = 2,\n",
      " x1 = 1,\n",
      " y = 1,\n",
      " x = 1,\n",
      " nxt = [2 -> 1, 0 -> 0, else -> 2],\n",
      " ls = [(0, 1) -> False,\n",
      "       (0, 2) -> False,\n",
      "       (1, 0) -> False,\n",
      "       (2, 0) -> False,\n",
      "       else -> True],\n",
      " rank = [(1, 2) -> 1, (2, 1) -> 1, else -> 0]]\n",
      "{2, 1, 0}\n"
     ]
    }
   ],
   "source": [
    "N = 3\n",
    "cex_model, elements = counterexemplify(lemma, lemma_vars, N, ls_def, rank_def,\n",
    "                                       rank, rank_zero, [nxt], nil)\n",
    "print(cex_model)\n",
    "print(elements)"
   ]
  },
  {
   "cell_type": "markdown",
   "metadata": {},
   "source": [
    "----------------"
   ]
  },
  {
   "cell_type": "markdown",
   "metadata": {},
   "source": [
    "## Trees"
   ]
  },
  {
   "cell_type": "code",
   "execution_count": 5,
   "metadata": {},
   "outputs": [],
   "source": [
    "# Initialize signature\n",
    "tree = Function('tree', IntSort(), BoolSort())\n",
    "nil = Int('nil')\n",
    "lft = Function('lft', IntSort(), IntSort())\n",
    "rht = Function('rht', IntSort(), IntSort())\n",
    "rank = Function('rank', IntSort(), IntSort())\n",
    "\n",
    "# Establish recursive-rank definition\n",
    "tree_def = lambda x: tree(x) == Or(x == nil, And(tree(lft(x)), tree(rht(x))))\n",
    "rank_def = lambda x: nil == nil#Or(x == nil, And(tree(lft(x)) == (rank(lft(x)) < rank(x)),\n",
    "                                #      tree(rht(x)) == (rank(rht(x)) < rank(x))))\n",
    "# Establish zero-rank condition\n",
    "rank_zero = lambda x: (x == nil)"
   ]
  },
  {
   "cell_type": "code",
   "execution_count": 6,
   "metadata": {},
   "outputs": [
    {
     "name": "stdout",
     "output_type": "stream",
     "text": [
      "Implies(tree(x), tree(y))\n"
     ]
    }
   ],
   "source": [
    "x,y = Ints('x y')\n",
    "lemma = Implies(tree(x), tree(y))\n",
    "lemma_vars = [x, y]\n",
    "print(lemma)"
   ]
  },
  {
   "cell_type": "code",
   "execution_count": 7,
   "metadata": {},
   "outputs": [
    {
     "name": "stdout",
     "output_type": "stream",
     "text": [
      "[nil = 0,\n",
      " x2 = 2,\n",
      " x1 = 1,\n",
      " y = 2,\n",
      " x = 1,\n",
      " rht = [2 -> 2, else -> 0],\n",
      " rank = [else -> 0],\n",
      " tree = [2 -> False, else -> True],\n",
      " lft = [2 -> 2, 0 -> 0, else -> 1]]\n",
      "{2, 1, 0}\n"
     ]
    }
   ],
   "source": [
    "N = 2\n",
    "cex_model, elements = counterexemplify(lemma, lemma_vars, N, tree_def, rank_def,\n",
    "                                       rank, rank_zero, [lft, rht], nil)\n",
    "print(cex_model)\n",
    "print(elements)"
   ]
  },
  {
   "cell_type": "code",
   "execution_count": null,
   "metadata": {},
   "outputs": [],
   "source": []
  }
 ],
 "metadata": {
  "kernelspec": {
   "display_name": "Python 3",
   "language": "python",
   "name": "python3"
  },
  "language_info": {
   "codemirror_mode": {
    "name": "ipython",
    "version": 3
   },
   "file_extension": ".py",
   "mimetype": "text/x-python",
   "name": "python",
   "nbconvert_exporter": "python",
   "pygments_lexer": "ipython3",
   "version": "3.8.3"
  }
 },
 "nbformat": 4,
 "nbformat_minor": 4
}
