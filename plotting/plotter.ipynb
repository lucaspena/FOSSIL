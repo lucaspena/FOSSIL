{
 "cells": [
  {
   "cell_type": "code",
   "execution_count": 1,
   "metadata": {},
   "outputs": [],
   "source": [
    "from pretty_plot import *"
   ]
  },
  {
   "cell_type": "code",
   "execution_count": 2,
   "metadata": {},
   "outputs": [],
   "source": [
    "def check_bench(first, second, bench=10):\n",
    "    X = 0\n",
    "    Y = 0\n",
    "    for i in range(len(first)):\n",
    "        if first[i] > bench:\n",
    "            X += 1\n",
    "            if second[i] < first[i]:\n",
    "                Y += 1\n",
    "    print('Of the {} tests which took more than {} seconds to run without LFP countermodels,'.format(X, bench))\n",
    "    print('{} were faster when LFP countermodels were turned on.'.format(Y))"
   ]
  },
  {
   "cell_type": "code",
   "execution_count": 3,
   "metadata": {},
   "outputs": [],
   "source": [
    "# Process main results\n",
    "#names, results_cex = process_done('done_counterexample.txt')\n",
    "names, results_cex = process_done('lucas_cex_out.txt')\n",
    "cex = [results_cex[name][0] for name in names]\n",
    "cex_max = max(cex)"
   ]
  },
  {
   "cell_type": "markdown",
   "metadata": {},
   "source": [
    "## 1. No counterexamples"
   ]
  },
  {
   "cell_type": "code",
   "execution_count": 4,
   "metadata": {},
   "outputs": [],
   "source": [
    "# Process comparison\n",
    "#_, results_nocex = process_done('done_no-cex-popl.txt')\n",
    "_, results_nocex = process_done('lucas_no-true-cex.txt')\n",
    "nocex = [results_nocex[name][0] for name in names]"
   ]
  },
  {
   "cell_type": "code",
   "execution_count": null,
   "metadata": {},
   "outputs": [
    {
     "data": {
      "text/plain": [
       "<Figure size 432x288 with 0 Axes>"
      ]
     },
     "metadata": {},
     "output_type": "display_data"
    }
   ],
   "source": [
    "# Plot\n",
    "m = max([max(nocex), cex_max])\n",
    "x = adjust(nocex, mx=m)\n",
    "y = adjust(cex, mx=m)\n",
    "pretty_plot(x, y, x_name='FOSSIL[no-lfp-counterexamples]', tm_val=m+1)\n",
    "check_bench(x, y)"
   ]
  },
  {
   "cell_type": "markdown",
   "metadata": {},
   "source": [
    "## 2. CVC4Sy"
   ]
  },
  {
   "cell_type": "code",
   "execution_count": null,
   "metadata": {},
   "outputs": [],
   "source": [
    "# Process comparison\n",
    "#_, results_cvc4sy = process_done('done_cvc4sy-popl.txt')\n",
    "_, results_cvc4sy = process_done('lucas_cvc4sy.txt')\n",
    "cvc4sy = [results_cvc4sy[name][0] for name in names]"
   ]
  },
  {
   "cell_type": "code",
   "execution_count": null,
   "metadata": {},
   "outputs": [],
   "source": [
    "# Plot\n",
    "m = max([max(cvc4sy), cex_max])\n",
    "x = adjust(cvc4sy, mx=m)\n",
    "y = adjust(cex, mx=m)\n",
    "pretty_plot(x, y, x_name='FOSSIL[CVC4Sy]')\n",
    "check_bench(x, y)"
   ]
  },
  {
   "cell_type": "markdown",
   "metadata": {},
   "source": [
    "## 3. Streaming"
   ]
  },
  {
   "cell_type": "code",
   "execution_count": null,
   "metadata": {},
   "outputs": [],
   "source": [
    "# Process comparison\n",
    "names, results_cex = process_done('done_counterexample.txt')\n",
    "#names, results_cex = process_done('lucas_cex_out.txt')\n",
    "cex = [results_cex[name][0] for name in names]\n",
    "cex_max = max(cex)\n",
    "_, results_streaming = process_done('done_streaming-popl.txt')\n",
    "streaming = [results_streaming[name][0] for name in names]"
   ]
  },
  {
   "cell_type": "code",
   "execution_count": null,
   "metadata": {},
   "outputs": [],
   "source": [
    "# Plot\n",
    "m = max([max(streaming), cex_max])\n",
    "x = adjust(streaming, mx=m)\n",
    "y = adjust(cex, mx=m)\n",
    "pretty_plot(x, y, x_name='FOSSIL[streaming]', y_leg='upper left')"
   ]
  }
 ],
 "metadata": {
  "kernelspec": {
   "display_name": "Python 3",
   "language": "python",
   "name": "python3"
  },
  "language_info": {
   "codemirror_mode": {
    "name": "ipython",
    "version": 3
   },
   "file_extension": ".py",
   "mimetype": "text/x-python",
   "name": "python",
   "nbconvert_exporter": "python",
   "pygments_lexer": "ipython3",
   "version": "3.8.3"
  }
 },
 "nbformat": 4,
 "nbformat_minor": 4
}
