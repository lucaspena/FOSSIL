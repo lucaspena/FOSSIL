{
 "cells": [
  {
   "cell_type": "code",
   "execution_count": null,
   "metadata": {},
   "outputs": [],
   "source": [
    "from pretty_plot import *"
   ]
  },
  {
   "cell_type": "code",
   "execution_count": null,
   "metadata": {},
   "outputs": [],
   "source": [
    "def check_bench(first, second, first_name='true countermodels turned off',\n",
    "                second_name='true countermodels turned on', bench=10):\n",
    "    X = 0\n",
    "    Y = 0\n",
    "    for i in range(len(first)):\n",
    "        if first[i] > bench:\n",
    "            X += 1\n",
    "            if second[i] < first[i]:\n",
    "                Y += 1\n",
    "    print('Of the {} tests which took more than {} seconds to run with {},'.format(X, bench, first_name))\n",
    "    print('{} were faster with {}.'.format(Y, second_name))"
   ]
  },
  {
   "cell_type": "code",
   "execution_count": null,
   "metadata": {},
   "outputs": [],
   "source": [
    "# Process main results\n",
    "names, results_cex = process_done('cex_out.txt')\n",
    "cex = [results_cex[name][0] for name in names]\n",
    "cex_max = max(cex)"
   ]
  },
  {
   "cell_type": "markdown",
   "metadata": {},
   "source": [
    "## 1. No LFP counterexamples"
   ]
  },
  {
   "cell_type": "code",
   "execution_count": null,
   "metadata": {},
   "outputs": [],
   "source": [
    "# Process comparison\n",
    "_, results_nocex = process_done('no-true-cex.txt')\n",
    "nocex = [results_nocex[name][0] for name in names]"
   ]
  },
  {
   "cell_type": "code",
   "execution_count": null,
   "metadata": {},
   "outputs": [],
   "source": [
    "# Plot\n",
    "m = max([max(nocex), cex_max])\n",
    "x = adjust(nocex, mx=m)\n",
    "y = adjust(cex, mx=m)\n",
    "pretty_plot(x, y, x_name='FOSSIL[no-true-counterexamples]', tm_val=m+1)\n",
    "check_bench(x, y)"
   ]
  },
  {
   "cell_type": "code",
   "execution_count": null,
   "metadata": {},
   "outputs": [],
   "source": [
    "# Plot lemma proposals\n",
    "cex_prop = [results_cex[name][1] for name in names]\n",
    "nocex_prop = [results_nocex[name][1] for name in names]\n",
    "m = max([max(nocex_prop), max(cex_prop)])\n",
    "x = adjust(nocex_prop, mx=m)\n",
    "y = adjust(cex_prop, mx=m)\n",
    "pretty_plot(x, y, x_name='FOSSIL[no-true-counterexamples]', tm_val=m+1, mark='D',\n",
    "            log=True, square=True, measurement='lemmas proposed', unit=None)"
   ]
  },
  {
   "cell_type": "code",
   "execution_count": null,
   "metadata": {},
   "outputs": [],
   "source": [
    "# Alternative plot to above scatterplot for lemmas proposed\n",
    "import matplotlib.pyplot as plt\n",
    "\n",
    "y = [y for _, y in sorted(zip(x, y), reverse=True)]\n",
    "x = sorted(x, reverse=True)\n",
    "\n",
    "N = len(names)\n",
    "ind = np.arange(N)  # the x locations for the groups\n",
    "width = 0.35       # the width of the bars\n",
    "\n",
    "fig, ax = plt.subplots(figsize=(12, 6))\n",
    "rects1 = ax.bar(ind, x, width, color='sandybrown')\n",
    "rects2 = ax.bar(ind + width, y, width, color='yellowgreen')\n",
    "\n",
    "ax.set_ylabel('Lemmas proposed')\n",
    "ax.set_title('')\n",
    "ax.set_xticklabels([])\n",
    "\n",
    "ax.legend((rects1[0], rects2[0]), ('FOSSIL[no-true-counterexamples]', 'FOSSIL'))\n",
    "plt.show()"
   ]
  },
  {
   "cell_type": "code",
   "execution_count": null,
   "metadata": {},
   "outputs": [],
   "source": [
    "# Alternative plot to above bar plot for lemmas proposed, single relative bars\n",
    "import matplotlib.pyplot as plt\n",
    "\n",
    "y = [y for _, y in sorted(zip(x, y), reverse=True)]\n",
    "x = sorted(x, reverse=True)\n",
    "z = list(set([-(y[i]-xi) for i,xi in enumerate(x)]))\n",
    "z.remove(0)\n",
    "z.append(0.3)\n",
    "z = sorted(z, reverse=True)\n",
    "\n",
    "N = len(z)\n",
    "ind = np.arange(N)  # the x locations for the groups\n",
    "width = 0.35       # the width of the bars\n",
    "\n",
    "fig, ax = plt.subplots(figsize=(12, 6))\n",
    "rects = ax.bar(ind - width, z, width, color='yellowgreen')\n",
    "\n",
    "ax.set_ylabel('Binned differences in lemmas proposed')\n",
    "ax.set_title('')\n",
    "ax.set_xticklabels([])\n",
    "\n",
    "plt.show()\n",
    "print(sum(np.array(z)==0))"
   ]
  },
  {
   "cell_type": "markdown",
   "metadata": {},
   "source": [
    "## 2. CVC4Sy"
   ]
  },
  {
   "cell_type": "code",
   "execution_count": null,
   "metadata": {},
   "outputs": [],
   "source": [
    "# Process comparison\n",
    "_, results_cvc4sy = process_done('cvc4sy.txt')\n",
    "cvc4sy = [results_cvc4sy[name][0] for name in names]"
   ]
  },
  {
   "cell_type": "code",
   "execution_count": null,
   "metadata": {},
   "outputs": [],
   "source": [
    "# Plot\n",
    "m = max([max(cvc4sy), cex_max])\n",
    "x = adjust(cvc4sy, mx=m)\n",
    "y = adjust(cex, mx=m)\n",
    "pretty_plot(x, y, x_name='FOSSIL[CVC4Sy]')\n",
    "check_bench(x, y, first_name='CVC4Sy', second_name='minisy')"
   ]
  },
  {
   "cell_type": "markdown",
   "metadata": {},
   "source": [
    "## 3. No counterexamples (streaming)"
   ]
  },
  {
   "cell_type": "code",
   "execution_count": null,
   "metadata": {},
   "outputs": [],
   "source": [
    "# Process comparison\n",
    "_, results_streaming = process_done('streaming.txt')\n",
    "streaming = [results_streaming[name][0] for name in names]"
   ]
  },
  {
   "cell_type": "code",
   "execution_count": null,
   "metadata": {},
   "outputs": [],
   "source": [
    "# Plot\n",
    "m = max([max(streaming), cex_max])\n",
    "x = adjust(streaming, mx=m)\n",
    "y = adjust(cex, mx=m)\n",
    "pretty_plot(x, y, x_name='FOSSIL[no-counterexamples]', y_leg='upper left', offset_band_label=True)\n",
    "check_bench(x, y, first_name='streaming enabled', second_name='streaming disabled')\n",
    "\n",
    "timeouts = 0\n",
    "good = 0\n",
    "even = 0\n",
    "bad = 0\n",
    "better_diff = 0\n",
    "for i in range(len(x)):\n",
    "    if x[i] > 100:\n",
    "        timeouts += 1\n",
    "    elif x[i] > y[i]:\n",
    "        better_diff += (x[i] - y[i]) / y[i]\n",
    "        good += 1\n",
    "    elif x[i] == y[i]:\n",
    "        even += 1\n",
    "    else:\n",
    "        bad += 1\n",
    "print(good, even, bad, timeouts)\n",
    "print(better_diff / good)"
   ]
  },
  {
   "cell_type": "code",
   "execution_count": null,
   "metadata": {},
   "outputs": [],
   "source": [
    "plt.pie([good, even, bad, timeouts],\n",
    "        labels=['FOSSIL better', 'no improvement', 'FOSSIL worse', 'FOSSIL infinitely better'],\n",
    "        colors=['yellowgreen', 'orange', 'red', 'green'])\n",
    "plt.show()"
   ]
  },
  {
   "cell_type": "code",
   "execution_count": null,
   "metadata": {},
   "outputs": [],
   "source": []
  }
 ],
 "metadata": {
  "kernelspec": {
   "display_name": "Python 3",
   "language": "python",
   "name": "python3"
  },
  "language_info": {
   "codemirror_mode": {
    "name": "ipython",
    "version": 3
   },
   "file_extension": ".py",
   "mimetype": "text/x-python",
   "name": "python",
   "nbconvert_exporter": "python",
   "pygments_lexer": "ipython3",
   "version": "3.8.3"
  }
 },
 "nbformat": 4,
 "nbformat_minor": 4
}
